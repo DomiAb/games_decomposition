{
 "cells": [
  {
   "cell_type": "code",
   "execution_count": 1,
   "metadata": {},
   "outputs": [],
   "source": [
    "import numpy as np\n",
    "from decomposition.game import Game"
   ]
  },
  {
   "cell_type": "markdown",
   "metadata": {},
   "source": [
    "Create structure of game. We allow that the computed structure is saved or loaded (if already existent), i.e., *save_load=True*. If no path is given, we use the current working directory and create a directory *data/structure/*."
   ]
  },
  {
   "cell_type": "code",
   "execution_count": 2,
   "metadata": {},
   "outputs": [],
   "source": [
    "game = Game([2,2], save_load=True, path=\"../\")"
   ]
  },
  {
   "cell_type": "markdown",
   "metadata": {},
   "source": [
    "We consider the Chicken Game and create the respective payoff matrices. We then compute the decomposition and observe that this version is actually a potential game:"
   ]
  },
  {
   "cell_type": "code",
   "execution_count": 3,
   "metadata": {},
   "outputs": [
    {
     "name": "stdout",
     "output_type": "stream",
     "text": [
      "Potentialness 1.00000\n"
     ]
    }
   ],
   "source": [
    "payoff_matrices = [\n",
    "    np.array([[0, 10], [-1, -100]]), np.array([[0, -1], [10, -100]])\n",
    "]\n",
    "game.compute_decomposition_matrix(payoff_matrices)\n",
    "print(f\"Potentialness {game.metric:.05f}\")"
   ]
  },
  {
   "cell_type": "markdown",
   "metadata": {},
   "source": [
    "If we consider Matching Pennies instead, we observe that it is a harmonic game: "
   ]
  },
  {
   "cell_type": "code",
   "execution_count": 4,
   "metadata": {},
   "outputs": [
    {
     "name": "stdout",
     "output_type": "stream",
     "text": [
      "Potentialness 0.00000\n"
     ]
    }
   ],
   "source": [
    "payoff_matrices = [\n",
    "    np.array([[1, -1], [-1, 1]]), np.array([[-1, 1], [1, -1]])\n",
    "]\n",
    "game.compute_decomposition_matrix(payoff_matrices)\n",
    "print(f\"Potentialness {game.metric:.05f}\")"
   ]
  },
  {
   "cell_type": "markdown",
   "metadata": {},
   "source": [
    "Let us consider some other random game:"
   ]
  },
  {
   "cell_type": "code",
   "execution_count": 10,
   "metadata": {},
   "outputs": [
    {
     "name": "stdout",
     "output_type": "stream",
     "text": [
      "Potentialness 0.63870\n"
     ]
    }
   ],
   "source": [
    "payoff_matrices = [\n",
    "    np.array([[1, -2], [3, -4]]), np.array([[4, -3], [2, -1]])\n",
    "]\n",
    "game.compute_decomposition_matrix(payoff_matrices)\n",
    "print(f\"Potentialness {game.metric:.05f}\")"
   ]
  },
  {
   "cell_type": "markdown",
   "metadata": {},
   "source": [
    "The potential and harmonic components are given by"
   ]
  },
  {
   "cell_type": "code",
   "execution_count": 14,
   "metadata": {},
   "outputs": [
    {
     "data": {
      "text/plain": [
       "array([[[-0. , -0. ],\n",
       "        [ 0. ,  0. ]],\n",
       "\n",
       "       [[ 2.5, -2.5],\n",
       "        [ 2.5, -2.5]]])"
      ]
     },
     "execution_count": 14,
     "metadata": {},
     "output_type": "execute_result"
    }
   ],
   "source": [
    "np.round(game.uP,3)"
   ]
  },
  {
   "cell_type": "code",
   "execution_count": 15,
   "metadata": {},
   "outputs": [
    {
     "data": {
      "text/plain": [
       "array([[[-1.,  1.],\n",
       "        [ 1., -1.]],\n",
       "\n",
       "       [[ 1., -1.],\n",
       "        [-1.,  1.]]])"
      ]
     },
     "execution_count": 15,
     "metadata": {},
     "output_type": "execute_result"
    }
   ],
   "source": [
    "np.round(game.uH,3)"
   ]
  },
  {
   "cell_type": "markdown",
   "metadata": {},
   "source": [
    "The original game can be reconstructed by adding up the potential, harmonic, and non-strategic components:"
   ]
  },
  {
   "cell_type": "code",
   "execution_count": 19,
   "metadata": {},
   "outputs": [
    {
     "data": {
      "text/plain": [
       "array([[[ 1., -2.],\n",
       "        [ 3., -4.]],\n",
       "\n",
       "       [[ 4., -3.],\n",
       "        [ 2., -1.]]])"
      ]
     },
     "execution_count": 19,
     "metadata": {},
     "output_type": "execute_result"
    }
   ],
   "source": [
    "np.array(game.uP) + np.array(game.uH) + np.array(game.uN)"
   ]
  },
  {
   "cell_type": "markdown",
   "metadata": {},
   "source": [
    "For a faster computation, one can also compute the potentialness in the flow space. Note that this doesn't give you the decomposition (uP, uH, and uN)"
   ]
  },
  {
   "cell_type": "code",
   "execution_count": 25,
   "metadata": {},
   "outputs": [
    {
     "name": "stdout",
     "output_type": "stream",
     "text": [
      "Potentialness 0.63870\n"
     ]
    }
   ],
   "source": [
    "game = Game([2,2], flow_space=True, save_load=True, path=\"../\")\n",
    "game.compute_flow_decomposition_matrix(payoff_matrices)\n",
    "print(f\"Potentialness {game.flow_metric:.05f}\")"
   ]
  },
  {
   "cell_type": "markdown",
   "metadata": {},
   "source": []
  }
 ],
 "metadata": {
  "kernelspec": {
   "display_name": "venv",
   "language": "python",
   "name": "python3"
  },
  "language_info": {
   "codemirror_mode": {
    "name": "ipython",
    "version": 3
   },
   "file_extension": ".py",
   "mimetype": "text/x-python",
   "name": "python",
   "nbconvert_exporter": "python",
   "pygments_lexer": "ipython3",
   "version": "3.11.8"
  }
 },
 "nbformat": 4,
 "nbformat_minor": 2
}
