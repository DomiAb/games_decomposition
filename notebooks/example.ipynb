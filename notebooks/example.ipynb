{
 "cells": [
  {
   "cell_type": "code",
   "execution_count": 1,
   "metadata": {},
   "outputs": [],
   "source": [
    "import numpy as np\n",
    "from decomposition.game import Game"
   ]
  },
  {
   "cell_type": "markdown",
   "metadata": {},
   "source": [
    "Create structure of game. We allow that the computed structure is saved or loaded (if already existent), i.e., *save_load=True*. If no path is given, we use the current working directory and create a directory *data/structure/*."
   ]
  },
  {
   "cell_type": "code",
   "execution_count": 2,
   "metadata": {},
   "outputs": [],
   "source": [
    "game = Game([2,2], save_load=True, path=\"../\")"
   ]
  },
  {
   "cell_type": "markdown",
   "metadata": {},
   "source": [
    "We consider the Chicken Game and create the respective payoff matrices. We then compute the decomposition and observe that this version is actually a potential game:"
   ]
  },
  {
   "cell_type": "code",
   "execution_count": 3,
   "metadata": {},
   "outputs": [
    {
     "name": "stdout",
     "output_type": "stream",
     "text": [
      "Potentialness 1.00000\n"
     ]
    }
   ],
   "source": [
    "payoff_matrices = [\n",
    "    np.array([[0, 10], [-1, -100]]), np.array([[0, -1], [10, -100]])\n",
    "]\n",
    "game.compute_decomposition_matrix(payoff_matrices)\n",
    "print(f\"Potentialness {game.potentialness:.05f}\")"
   ]
  },
  {
   "cell_type": "markdown",
   "metadata": {},
   "source": [
    "If we consider Matching Pennies instead, we observe that it is a harmonic game: "
   ]
  },
  {
   "cell_type": "code",
   "execution_count": 4,
   "metadata": {},
   "outputs": [
    {
     "name": "stdout",
     "output_type": "stream",
     "text": [
      "Potentialness 0.00000\n"
     ]
    }
   ],
   "source": [
    "payoff_matrices = [\n",
    "    np.array([[1, -1], [-1, 1]]), np.array([[-1, 1], [1, -1]])\n",
    "]\n",
    "game.compute_decomposition_matrix(payoff_matrices)\n",
    "print(f\"Potentialness {game.potentialness:.05f}\")"
   ]
  }
 ],
 "metadata": {
  "kernelspec": {
   "display_name": "venv",
   "language": "python",
   "name": "python3"
  },
  "language_info": {
   "codemirror_mode": {
    "name": "ipython",
    "version": 3
   },
   "file_extension": ".py",
   "mimetype": "text/x-python",
   "name": "python",
   "nbconvert_exporter": "python",
   "pygments_lexer": "ipython3",
   "version": "3.11.4"
  }
 },
 "nbformat": 4,
 "nbformat_minor": 2
}
